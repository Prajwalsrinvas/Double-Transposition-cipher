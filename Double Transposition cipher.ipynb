{
 "cells": [
  {
   "cell_type": "markdown",
   "metadata": {},
   "source": [
    "# Double Transposition cipher"
   ]
  },
  {
   "cell_type": "code",
   "execution_count": 70,
   "metadata": {},
   "outputs": [
    {
     "name": "stdout",
     "output_type": "stream",
     "text": [
      "Enter sentence:\n",
      "we are all together\n",
      "Enter size:\n",
      "4\n",
      "Enter row permutation:\n",
      "2,4,1,3\n",
      "Enter column permutation:\n",
      "3,1,2,4\n",
      "before applying double transposition cipher: wearealltogether\n",
      "after applying double transposition cipher: lealethrawergtoe\n"
     ]
    }
   ],
   "source": [
    "import numpy as np\n",
    "\n",
    "sentence = input(\"Enter sentence:\\n\").replace(' ','')\n",
    "size = int(input(\"Enter size:\\n\"))\n",
    "rowp = input(\"Enter row permutation:\\n\").split(',')\n",
    "colp = input(\"Enter column permutation:\\n\").split(',')\n",
    "perm_dict = {}\n",
    "\n",
    "for i,r,c in zip(range(size),rowp,colp):\n",
    "    perm_dict[int(i)] = int(r)-1,int(c)-1\n",
    "    \n",
    "a = np.array(list(sentence)).reshape(size,size)\n",
    "b = np.zeros((size,size),dtype=str)\n",
    "c = np.zeros((size,size),dtype=str)\n",
    "\n",
    "for k,v in perm_dict.items():\n",
    "    b[k] = a[v[0]]\n",
    "    \n",
    "for k,v in perm_dict.items():\n",
    "    c[:,k] = b[:,v[1]]\n",
    "    \n",
    "final_sentence = ''\n",
    "for i in c:\n",
    "    for j in i:\n",
    "        final_sentence+=j\n",
    "print(f\"before applying double transposition cipher: {sentence}\")        \n",
    "print(f\"after applying double transposition cipher: {final_sentence}\")"
   ]
  }
 ],
 "metadata": {
  "kernelspec": {
   "display_name": "Python 3",
   "language": "python",
   "name": "python3"
  },
  "language_info": {
   "codemirror_mode": {
    "name": "ipython",
    "version": 3
   },
   "file_extension": ".py",
   "mimetype": "text/x-python",
   "name": "python",
   "nbconvert_exporter": "python",
   "pygments_lexer": "ipython3",
   "version": "3.8.3"
  }
 },
 "nbformat": 4,
 "nbformat_minor": 4
}
